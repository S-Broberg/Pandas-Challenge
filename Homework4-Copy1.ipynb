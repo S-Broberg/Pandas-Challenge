{
 "cells": [
  {
   "cell_type": "code",
   "execution_count": 11,
   "metadata": {},
   "outputs": [
    {
     "data": {
      "text/html": [
       "<div>\n",
       "<style scoped>\n",
       "    .dataframe tbody tr th:only-of-type {\n",
       "        vertical-align: middle;\n",
       "    }\n",
       "\n",
       "    .dataframe tbody tr th {\n",
       "        vertical-align: top;\n",
       "    }\n",
       "\n",
       "    .dataframe thead th {\n",
       "        text-align: right;\n",
       "    }\n",
       "</style>\n",
       "<table border=\"1\" class=\"dataframe\">\n",
       "  <thead>\n",
       "    <tr style=\"text-align: right;\">\n",
       "      <th></th>\n",
       "      <th>Purchase ID</th>\n",
       "      <th>SN</th>\n",
       "      <th>Age</th>\n",
       "      <th>Gender</th>\n",
       "      <th>Item ID</th>\n",
       "      <th>Item Name</th>\n",
       "      <th>Price</th>\n",
       "    </tr>\n",
       "  </thead>\n",
       "  <tbody>\n",
       "    <tr>\n",
       "      <th>0</th>\n",
       "      <td>0</td>\n",
       "      <td>Lisim78</td>\n",
       "      <td>20</td>\n",
       "      <td>Male</td>\n",
       "      <td>108</td>\n",
       "      <td>Extraction, Quickblade Of Trembling Hands</td>\n",
       "      <td>3.53</td>\n",
       "    </tr>\n",
       "    <tr>\n",
       "      <th>1</th>\n",
       "      <td>1</td>\n",
       "      <td>Lisovynya38</td>\n",
       "      <td>40</td>\n",
       "      <td>Male</td>\n",
       "      <td>143</td>\n",
       "      <td>Frenzied Scimitar</td>\n",
       "      <td>1.56</td>\n",
       "    </tr>\n",
       "    <tr>\n",
       "      <th>2</th>\n",
       "      <td>2</td>\n",
       "      <td>Ithergue48</td>\n",
       "      <td>24</td>\n",
       "      <td>Male</td>\n",
       "      <td>92</td>\n",
       "      <td>Final Critic</td>\n",
       "      <td>4.88</td>\n",
       "    </tr>\n",
       "    <tr>\n",
       "      <th>3</th>\n",
       "      <td>3</td>\n",
       "      <td>Chamassasya86</td>\n",
       "      <td>24</td>\n",
       "      <td>Male</td>\n",
       "      <td>100</td>\n",
       "      <td>Blindscythe</td>\n",
       "      <td>3.27</td>\n",
       "    </tr>\n",
       "    <tr>\n",
       "      <th>4</th>\n",
       "      <td>4</td>\n",
       "      <td>Iskosia90</td>\n",
       "      <td>23</td>\n",
       "      <td>Male</td>\n",
       "      <td>131</td>\n",
       "      <td>Fury</td>\n",
       "      <td>1.44</td>\n",
       "    </tr>\n",
       "  </tbody>\n",
       "</table>\n",
       "</div>"
      ],
      "text/plain": [
       "   Purchase ID             SN  Age Gender  Item ID  \\\n",
       "0            0        Lisim78   20   Male      108   \n",
       "1            1    Lisovynya38   40   Male      143   \n",
       "2            2     Ithergue48   24   Male       92   \n",
       "3            3  Chamassasya86   24   Male      100   \n",
       "4            4      Iskosia90   23   Male      131   \n",
       "\n",
       "                                   Item Name  Price  \n",
       "0  Extraction, Quickblade Of Trembling Hands   3.53  \n",
       "1                          Frenzied Scimitar   1.56  \n",
       "2                               Final Critic   4.88  \n",
       "3                                Blindscythe   3.27  \n",
       "4                                       Fury   1.44  "
      ]
     },
     "execution_count": 11,
     "metadata": {},
     "output_type": "execute_result"
    }
   ],
   "source": [
    "# Dependencies and Setup\n",
    "import pandas as pd\n",
    "import os\n",
    "# File to Load (Remember to Change These)\n",
    "file_to_load = os.path.join(\"heroes\", \"purchase_data.csv\")\n",
    "\n",
    "# Read Purchasing File and store into Pandas data frame\n",
    "purchase_data = pd.read_csv(file_to_load)\n",
    "purchase_data.head()"
   ]
  },
  {
   "cell_type": "code",
   "execution_count": 50,
   "metadata": {},
   "outputs": [
    {
     "name": "stdout",
     "output_type": "stream",
     "text": [
      "576\n"
     ]
    }
   ],
   "source": [
    "#Display the total number of players\n",
    "total_players = purchase_data['SN'].nunique()\n",
    "print(total_players)"
   ]
  },
  {
   "cell_type": "code",
   "execution_count": 32,
   "metadata": {},
   "outputs": [
    {
     "data": {
      "text/html": [
       "<div>\n",
       "<style scoped>\n",
       "    .dataframe tbody tr th:only-of-type {\n",
       "        vertical-align: middle;\n",
       "    }\n",
       "\n",
       "    .dataframe tbody tr th {\n",
       "        vertical-align: top;\n",
       "    }\n",
       "\n",
       "    .dataframe thead th {\n",
       "        text-align: right;\n",
       "    }\n",
       "</style>\n",
       "<table border=\"1\" class=\"dataframe\">\n",
       "  <thead>\n",
       "    <tr style=\"text-align: right;\">\n",
       "      <th></th>\n",
       "      <th>Total Players</th>\n",
       "      <th>Unique Items</th>\n",
       "      <th>Average Price</th>\n",
       "    </tr>\n",
       "  </thead>\n",
       "  <tbody>\n",
       "    <tr>\n",
       "      <th>0</th>\n",
       "      <td>780</td>\n",
       "      <td>179</td>\n",
       "      <td>3.050987</td>\n",
       "    </tr>\n",
       "  </tbody>\n",
       "</table>\n",
       "</div>"
      ],
      "text/plain": [
       "   Total Players    Unique Items   Average Price  \n",
       "0              780            179         3.050987"
      ]
     },
     "execution_count": 32,
     "metadata": {},
     "output_type": "execute_result"
    }
   ],
   "source": [
    "#Run basic calculations to obtain number of unique items, average price, etc.\n",
    "unique_items = purchase_data['Item Name'].nunique()\n",
    "avg_price = purchase_data['Price'].mean()\n",
    "\n",
    "#Create a summary data frame to hold the results\n",
    "\n",
    "summary_df = pd.DataFrame({\"Total Players  \" : [total_players],\n",
    "                            \"Unique Items \": [unique_items],\n",
    "                            \"Average Price  \" : [avg_price]})\n",
    "\n",
    "\n",
    "#Display the summary data frame\n",
    "summary_df"
   ]
  },
  {
   "cell_type": "code",
   "execution_count": 52,
   "metadata": {},
   "outputs": [
    {
     "name": "stdout",
     "output_type": "stream",
     "text": [
      "Male                     652\n",
      "Female                   113\n",
      "Other / Non-Disclosed     15\n",
      "Name: Gender, dtype: int64\n",
      "male % =   113.19444444444444 %\n",
      "female % =   19.618055555555554 %\n",
      "other % =   2.604166666666667 %\n"
     ]
    }
   ],
   "source": [
    "#Percentage and Count of Male Players\n",
    "#Percentage and Count of Female Players\n",
    "#Percentage and Count of Other / Non-Disclosed\n",
    "gender = purchase_data['Gender'].value_counts()\n",
    "Male_percent = (652 / 780) * 100\n",
    "female_percent = (113 / 780) *100\n",
    "other_percent = (15 / 780) * 100\n",
    "print(gender)\n",
    "print(\"male % =  \" , Male_percent, \"%\")\n",
    "print(\"female % =  \" , female_percent, \"%\")\n",
    "print(\"other % =  \" , other_percent, \"%\")"
   ]
  },
  {
   "cell_type": "code",
   "execution_count": 61,
   "metadata": {},
   "outputs": [
    {
     "data": {
      "text/html": [
       "<div>\n",
       "<style scoped>\n",
       "    .dataframe tbody tr th:only-of-type {\n",
       "        vertical-align: middle;\n",
       "    }\n",
       "\n",
       "    .dataframe tbody tr th {\n",
       "        vertical-align: top;\n",
       "    }\n",
       "\n",
       "    .dataframe thead th {\n",
       "        text-align: right;\n",
       "    }\n",
       "</style>\n",
       "<table border=\"1\" class=\"dataframe\">\n",
       "  <thead>\n",
       "    <tr style=\"text-align: right;\">\n",
       "      <th></th>\n",
       "      <th>Purchase count</th>\n",
       "      <th>Average purchase price</th>\n",
       "      <th>Purchase total per person</th>\n",
       "      <th>purchase total for males</th>\n",
       "      <th>purchase total for females</th>\n",
       "      <th>purchase total for other</th>\n",
       "    </tr>\n",
       "  </thead>\n",
       "  <tbody>\n",
       "    <tr>\n",
       "      <th>0</th>\n",
       "      <td>780</td>\n",
       "      <td>3.050987</td>\n",
       "      <td>0.738462</td>\n",
       "      <td>83.589744</td>\n",
       "      <td>14.487179</td>\n",
       "      <td>1.923077</td>\n",
       "    </tr>\n",
       "  </tbody>\n",
       "</table>\n",
       "</div>"
      ],
      "text/plain": [
       "   Purchase count    Average purchase price   Purchase total per person    \\\n",
       "0               780                 3.050987                     0.738462   \n",
       "\n",
       "   purchase total for males  purchase total for females  \\\n",
       "0                 83.589744                   14.487179   \n",
       "\n",
       "   purchase total for other  \n",
       "0                  1.923077  "
      ]
     },
     "execution_count": 61,
     "metadata": {},
     "output_type": "execute_result"
    }
   ],
   "source": [
    "#Run basic calculations to obtain purchase count, avg. purchase price, avg. purchase total per person etc. by gender\n",
    "purchase_count = len(purchase_data.index)\n",
    "purchase_totalp = total_players / purchase_count\n",
    "purchase_totalgm = (Male_percent * total_players) / purchase_count\n",
    "purchase_totalgf = (female_percent * total_players) / purchase_count\n",
    "purchase_totalgo = (other_percent * total_players) / purchase_count\n",
    "purchase_count\n",
    "#Create a summary data frame to hold the results\n",
    "summary_df2 = pd.DataFrame({\"Purchase count  \" : [purchase_count],\n",
    "                            \"Average purchase price \": [avg_price],\n",
    "                            \"Purchase total per person  \" : [purchase_totalp],\n",
    "                           \"purchase total for males\" : [purchase_totalgm],\n",
    "                           \"purchase total for females\" : [purchase_totalgf],\n",
    "                           \"purchase total for other\" : [purchase_totalgo]})\n",
    "\n",
    "\n",
    "#Display the summary data frame\n",
    "summary_df2"
   ]
  },
  {
   "cell_type": "code",
   "execution_count": 89,
   "metadata": {},
   "outputs": [
    {
     "name": "stdout",
     "output_type": "stream",
     "text": [
      "kid percent :  4.102564102564102 %\n",
      "teen percent :  13.58974358974359 %\n",
      "adult percent :  70.51282051282051 %\n",
      "elderly percent :  11.794871794871794 %\n",
      "[{'range': 'Kid', 'Count': 32}, {'range': 'Teen', 'Count': 106}, {'range': 'Adult', 'Count': 550}, {'range': 'Elderly', 'Count': 92}]\n"
     ]
    }
   ],
   "source": [
    "#Establish bins for ages\n",
    "\n",
    "#Categorize the existing players using the age bins. Hint: use pd.cut\n",
    "\n",
    "purchase_data['range'] = pd.cut(purchase_data.Age,[1,10,17,30,99],labels=['Kid','Teen','Adult','Elderly'])\n",
    "\n",
    "bin1 = purchase_data.groupby('range')['Age'].count().reset_index(name='Count').to_dict(orient='records')\n",
    "#Calculate the numbers and percentages by age group\n",
    "kid_p = (32 / 780) *100\n",
    "teen_p = (106 / 780) *100\n",
    "adult_p = (550 / 780) * 100\n",
    "elderly_p = (92 / 780) *100\n",
    "#Create a summary data frame to hold the results\n",
    "\n",
    "print(\"kid percent : \", kid_p, \"%\")\n",
    "print(\"teen percent : \", teen_p, \"%\")\n",
    "print(\"adult percent : \", adult_p, \"%\")\n",
    "print(\"elderly percent : \", elderly_p, \"%\")\n",
    "print(bin1)\n",
    "\n",
    "#Display Age Demographics Table"
   ]
  },
  {
   "cell_type": "code",
   "execution_count": 90,
   "metadata": {},
   "outputs": [
    {
     "data": {
      "text/html": [
       "<div>\n",
       "<style scoped>\n",
       "    .dataframe tbody tr th:only-of-type {\n",
       "        vertical-align: middle;\n",
       "    }\n",
       "\n",
       "    .dataframe tbody tr th {\n",
       "        vertical-align: top;\n",
       "    }\n",
       "\n",
       "    .dataframe thead th {\n",
       "        text-align: right;\n",
       "    }\n",
       "</style>\n",
       "<table border=\"1\" class=\"dataframe\">\n",
       "  <thead>\n",
       "    <tr style=\"text-align: right;\">\n",
       "      <th></th>\n",
       "      <th>Purchase count</th>\n",
       "      <th>Average purchase price</th>\n",
       "      <th>Purchase total per person</th>\n",
       "      <th>purchase total for kids</th>\n",
       "      <th>purchase total for teens</th>\n",
       "      <th>purchase total for adults</th>\n",
       "      <th>purchase total for elderly</th>\n",
       "    </tr>\n",
       "  </thead>\n",
       "  <tbody>\n",
       "    <tr>\n",
       "      <th>0</th>\n",
       "      <td>780</td>\n",
       "      <td>3.050987</td>\n",
       "      <td>0.738462</td>\n",
       "      <td>3.029586</td>\n",
       "      <td>10.035503</td>\n",
       "      <td>52.071006</td>\n",
       "      <td>8.710059</td>\n",
       "    </tr>\n",
       "  </tbody>\n",
       "</table>\n",
       "</div>"
      ],
      "text/plain": [
       "   Purchase count    Average purchase price   Purchase total per person    \\\n",
       "0               780                 3.050987                     0.738462   \n",
       "\n",
       "   purchase total for kids  purchase total for teens  \\\n",
       "0                 3.029586                 10.035503   \n",
       "\n",
       "   purchase total for adults  purchase total for elderly  \n",
       "0                  52.071006                    8.710059  "
      ]
     },
     "execution_count": 90,
     "metadata": {},
     "output_type": "execute_result"
    }
   ],
   "source": [
    "#Bin the purchase_data data frame by age\n",
    "purchase_data['range'] = pd.cut(purchase_data.Age,[1,10,17,30,99],labels=['Kid','Teen','Adult','Elderly'])\n",
    "\n",
    "bin1 = purchase_data.groupby('range')['Age'].count().reset_index(name='Count').to_dict(orient='records')\n",
    "#Run basic calculations to obtain purchase count, avg. purchase price, avg. purchase total per person etc. in the table below\n",
    "purchase_count2 = len(purchase_data.index)\n",
    "purchase_totalp = total_players / purchase_count\n",
    "purchase_totalkp = (kid_p * total_players) / purchase_count\n",
    "purchase_totaltp = (teen_p * total_players) / purchase_count\n",
    "purchase_totalap = (adult_p * total_players) / purchase_count\n",
    "purchase_totalep = (elderly_p * total_players) / purchase_count\n",
    "purchase_count\n",
    "#Create a summary data frame to hold the results\n",
    "summary_df3 = pd.DataFrame({\"Purchase count  \" : [purchase_count],\n",
    "                            \"Average purchase price \": [avg_price],\n",
    "                            \"Purchase total per person  \" : [purchase_totalp],\n",
    "                           \"purchase total for kids\" : [purchase_totalkp],\n",
    "                           \"purchase total for teens\" : [purchase_totaltp],\n",
    "                           \"purchase total for adults\" : [purchase_totalap],\n",
    "                           \"purchase total for elderly\" : [purchase_totalep]})\n",
    "\n",
    "\n",
    "#Display the summary data frame\n",
    "summary_df3"
   ]
  },
  {
   "cell_type": "code",
   "execution_count": 8,
   "metadata": {},
   "outputs": [],
   "source": []
  },
  {
   "cell_type": "code",
   "execution_count": 79,
   "metadata": {},
   "outputs": [
    {
     "name": "stdout",
     "output_type": "stream",
     "text": [
      "92     13\n",
      "178    12\n",
      "108     9\n",
      "132     9\n",
      "82      9\n",
      "       ..\n",
      "104     1\n",
      "27      1\n",
      "134     1\n",
      "118     1\n",
      "91      1\n",
      "Name: Item ID, Length: 179, dtype: int64\n",
      "108    1.75\n",
      "143    1.29\n",
      "92     3.94\n",
      "100    1.02\n",
      "131    1.87\n",
      "       ... \n",
      "60     2.38\n",
      "164    3.09\n",
      "67     4.74\n",
      "92     3.94\n",
      "50     2.18\n",
      "Name: Price, Length: 780, dtype: float64\n"
     ]
    }
   ],
   "source": [
    "#Retrieve the Item ID, Item Name, and Item Price columns\n",
    "\n",
    "#Group by Item ID and Item Name. Perform calculations to obtain purchase count, average item price, and total purchase value\n",
    "Item_id = purchase_data['Item ID'].value_counts()\n",
    "print(Item_id)\n",
    "item_price = purchase_data.loc[purchase_data['Item ID'] ,'Price']\n",
    "print(item_price)\n",
    "#Create a summary data frame to hold the results\n",
    "\n",
    "#Sort the purchase count column in descending order\n",
    "\n",
    "\n",
    "#Display a preview of the summary data frame"
   ]
  },
  {
   "cell_type": "code",
   "execution_count": 92,
   "metadata": {},
   "outputs": [
    {
     "name": "stdout",
     "output_type": "stream",
     "text": [
      "     Purchase ID             SN  Age  Gender  Item ID  \\\n",
      "554          554       Dyally87   22    Male       63   \n",
      "189          189       Hiasri33   23    Male       63   \n",
      "110          110        Ririp86   25    Male      139   \n",
      "246          246     Lirtilsa71   24    Male      139   \n",
      "493          493  Chanirrasta87   14    Male      139   \n",
      "..           ...            ...  ...     ...      ...   \n",
      "586          586     Chanirra79   23  Female      155   \n",
      "282          282        Aidai61   21    Male      155   \n",
      "371          371     Eusurdeu49   23    Male      155   \n",
      "63            63          Alo38   20    Male      125   \n",
      "418          418        Marim28   25  Female      125   \n",
      "\n",
      "                      Item Name Age Group  Price  range  \n",
      "554              Stormfury Mace     Adult   4.99  Adult  \n",
      "189              Stormfury Mace     Adult   4.99  Adult  \n",
      "110     Mercy, Katana of Dismay     Adult   4.94  Adult  \n",
      "246     Mercy, Katana of Dismay     Adult   4.94  Adult  \n",
      "493     Mercy, Katana of Dismay      Teen   4.94   Teen  \n",
      "..                          ...       ...    ...    ...  \n",
      "586   War-Forged Gold Deflector     Adult   1.01  Adult  \n",
      "282   War-Forged Gold Deflector     Adult   1.01  Adult  \n",
      "371   War-Forged Gold Deflector     Adult   1.01  Adult  \n",
      "63   Whistling Mithril Warblade     Adult   1.00  Adult  \n",
      "418  Whistling Mithril Warblade     Adult   1.00  Adult  \n",
      "\n",
      "[780 rows x 9 columns]\n"
     ]
    }
   ],
   "source": [
    "#Sort the above table by total purchase value in descending order\n",
    "\n",
    "test = purchase_data.sort_values(['Price'], ascending=[0])\n",
    "#Display a preview of the data frame\n",
    "print(test)"
   ]
  },
  {
   "cell_type": "code",
   "execution_count": null,
   "metadata": {},
   "outputs": [],
   "source": []
  }
 ],
 "metadata": {
  "kernelspec": {
   "display_name": "Python [conda env:root] *",
   "language": "python",
   "name": "conda-root-py"
  },
  "language_info": {
   "codemirror_mode": {
    "name": "ipython",
    "version": 3
   },
   "file_extension": ".py",
   "mimetype": "text/x-python",
   "name": "python",
   "nbconvert_exporter": "python",
   "pygments_lexer": "ipython3",
   "version": "3.8.5"
  }
 },
 "nbformat": 4,
 "nbformat_minor": 4
}
